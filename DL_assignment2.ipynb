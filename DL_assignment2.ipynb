{
  "nbformat": 4,
  "nbformat_minor": 0,
  "metadata": {
    "colab": {
      "provenance": [],
      "authorship_tag": "ABX9TyPSMl7MTUjGlIS6ZrwiaeTg",
      "include_colab_link": true
    },
    "kernelspec": {
      "name": "python3",
      "display_name": "Python 3"
    },
    "language_info": {
      "name": "python"
    }
  },
  "cells": [
    {
      "cell_type": "markdown",
      "metadata": {
        "id": "view-in-github",
        "colab_type": "text"
      },
      "source": [
        "<a href=\"https://colab.research.google.com/github/kishore4362/CV/blob/main/DL_assignment2.ipynb\" target=\"_parent\"><img src=\"https://colab.research.google.com/assets/colab-badge.svg\" alt=\"Open In Colab\"/></a>"
      ]
    },
    {
      "cell_type": "code",
      "execution_count": 3,
      "metadata": {
        "id": "il1lcGuLyKz-"
      },
      "outputs": [],
      "source": [
        "import numpy as np"
      ]
    },
    {
      "cell_type": "code",
      "source": [
        "pip install pillow"
      ],
      "metadata": {
        "colab": {
          "base_uri": "https://localhost:8080/"
        },
        "id": "dKfUd--Vy2mO",
        "outputId": "c6cd6c9a-7960-42b3-a01e-dfc3d999a4b7"
      },
      "execution_count": 4,
      "outputs": [
        {
          "output_type": "stream",
          "name": "stdout",
          "text": [
            "Requirement already satisfied: pillow in /usr/local/lib/python3.10/dist-packages (9.4.0)\n"
          ]
        }
      ]
    },
    {
      "cell_type": "code",
      "source": [
        "from PIL import Image"
      ],
      "metadata": {
        "id": "lGRcCwnCz1PP"
      },
      "execution_count": 5,
      "outputs": []
    },
    {
      "cell_type": "code",
      "source": [
        "def cross_entropy(p,q):\n",
        "  epsilone = 1e-10\n",
        "  q=np.clip(q,epsilone,1)\n",
        "  return -np.sum(p*np.log(q))\n"
      ],
      "metadata": {
        "id": "PHyzZPDI01Ek"
      },
      "execution_count": 7,
      "outputs": []
    },
    {
      "cell_type": "code",
      "source": [
        "def norm_hist(image_path):\n",
        "  image = Image.open(image_path).convert('L')\n",
        "  histogram=np.histogram(image, bins=256, range=(0,255), density=True)[0]\n",
        "  return histogram\n",
        "\n",
        "left_image_hist= norm_hist(\"left.png\")\n",
        "right_image_hist= norm_hist(\"right.png\")\n",
        "\n",
        "ce=cross_entropy(left_image_hist,right_image_hist)\n",
        "print(ce)"
      ],
      "metadata": {
        "colab": {
          "base_uri": "https://localhost:8080/"
        },
        "id": "PHrZaoTZ1ngq",
        "outputId": "4c6f0555-5fa9-4bc1-ae47-4b15cb95ad34"
      },
      "execution_count": 17,
      "outputs": [
        {
          "output_type": "stream",
          "name": "stdout",
          "text": [
            "5.05737687907196\n"
          ]
        }
      ]
    },
    {
      "cell_type": "code",
      "source": [],
      "metadata": {
        "id": "QLU03Chy48Pe"
      },
      "execution_count": null,
      "outputs": []
    }
  ]
}